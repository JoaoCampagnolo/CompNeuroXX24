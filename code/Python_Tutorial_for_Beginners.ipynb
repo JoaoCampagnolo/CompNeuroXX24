{
 "cells": [
  {
   "cell_type": "markdown",
   "id": "2a740aa3",
   "metadata": {},
   "source": [
    "\n",
    "# Python Tutorial for Beginners 🐍\n",
    "_(Author: [joao.campagnolo@sund.ku.dk](joao.campagnolo@sund.ku.dk) (& Chat GPT); Spring 2024)_\n",
    "\n",
    "## 1. Variables ✘\n",
    "Variables are containers for storing data values.\n"
   ]
  },
  {
   "cell_type": "code",
   "execution_count": null,
   "id": "7b237c2e",
   "metadata": {},
   "outputs": [],
   "source": [
    "\n",
    "# Example\n",
    "x = 5\n",
    "y = \"Hello, World!\"\n",
    "print(x)\n",
    "print(y)\n"
   ]
  },
  {
   "cell_type": "markdown",
   "id": "950f48e9",
   "metadata": {},
   "source": [
    "## 2. Multiple Assignment 🔠"
   ]
  },
  {
   "cell_type": "code",
   "execution_count": null,
   "id": "f3f8d770",
   "metadata": {},
   "outputs": [],
   "source": [
    "\n",
    "# Python allows you to assign values to multiple variables in one line.\n",
    "a, b, c = 1, 2, 3\n",
    "print(a, b, c)\n"
   ]
  },
  {
   "cell_type": "markdown",
   "id": "f73e7301",
   "metadata": {},
   "source": [
    "## 3. String Methods 〰️"
   ]
  },
  {
   "cell_type": "code",
   "execution_count": null,
   "id": "ce553973",
   "metadata": {},
   "outputs": [],
   "source": [
    "\n",
    "# Python has a set of built-in methods that you can use on strings.\n",
    "s = \"Hello, World!\"\n",
    "print(s.upper())\n",
    "print(s.lower())\n",
    "print(s.replace(\"World\", \"Universe\"))\n"
   ]
  },
  {
   "cell_type": "markdown",
   "id": "a1366e94",
   "metadata": {},
   "source": [
    "## 4. Type Cast 💱"
   ]
  },
  {
   "cell_type": "code",
   "execution_count": null,
   "id": "f13bc703",
   "metadata": {},
   "outputs": [],
   "source": [
    "\n",
    "# Type casting is the process of converting one data type to another.\n",
    "x = int(1)   # x will be 1\n",
    "y = float(2.8) # y will be 2.8\n",
    "z = str(3.0) # z will be '3.0'\n",
    "print(x, y, z)\n"
   ]
  },
  {
   "cell_type": "markdown",
   "id": "01d8cf9d",
   "metadata": {},
   "source": [
    "## 5. User Input ⌨️"
   ]
  },
  {
   "cell_type": "code",
   "execution_count": null,
   "id": "40d7a4d3",
   "metadata": {},
   "outputs": [],
   "source": [
    "\n",
    "# Python allows for user input.\n",
    "name = input(\"Enter your name: \")\n",
    "print(\"Hello, \" + name)\n"
   ]
  },
  {
   "cell_type": "markdown",
   "id": "d1fd95fb",
   "metadata": {},
   "source": [
    "## 6. Math Functions 🧮"
   ]
  },
  {
   "cell_type": "code",
   "execution_count": null,
   "id": "f0b31e25",
   "metadata": {},
   "outputs": [],
   "source": [
    "\n",
    "# Python has a built-in module that you can use for mathematical tasks.\n",
    "import math\n",
    "print(math.sqrt(64))\n",
    "print(math.pi)\n"
   ]
  },
  {
   "cell_type": "markdown",
   "id": "613a135b",
   "metadata": {},
   "source": [
    "## 7. String Slicing ✂️"
   ]
  },
  {
   "cell_type": "code",
   "execution_count": null,
   "id": "9dd11252",
   "metadata": {},
   "outputs": [],
   "source": [
    "\n",
    "# You can return a range of characters by using the slice syntax.\n",
    "s = \"Hello, World!\"\n",
    "print(s[2:5])\n",
    "print(s[:5])\n",
    "print(s[2:])\n"
   ]
  },
  {
   "cell_type": "markdown",
   "id": "a811da2b",
   "metadata": {},
   "source": [
    "## 8. If Statements 🤔"
   ]
  },
  {
   "cell_type": "code",
   "execution_count": null,
   "id": "5cc71b62",
   "metadata": {},
   "outputs": [],
   "source": [
    "\n",
    "# Python supports the usual logical conditions from mathematics.\n",
    "a = 33\n",
    "b = 200\n",
    "if b > a:\n",
    "    print(\"b is greater than a\")\n"
   ]
  },
  {
   "cell_type": "markdown",
   "id": "ca7a4ae6",
   "metadata": {},
   "source": [
    "## 9. Logical Operators 🔣"
   ]
  },
  {
   "cell_type": "code",
   "execution_count": null,
   "id": "f26f21a7",
   "metadata": {},
   "outputs": [],
   "source": [
    "\n",
    "# Logical operators are used to combine conditional statements.\n",
    "x = True\n",
    "y = False\n",
    "print(x and y)\n",
    "print(x or y)\n",
    "print(not x)\n"
   ]
  },
  {
   "cell_type": "markdown",
   "id": "677df971",
   "metadata": {},
   "source": [
    "## 10. While Loops 🔄"
   ]
  },
  {
   "cell_type": "code",
   "execution_count": null,
   "id": "ca734e40",
   "metadata": {},
   "outputs": [],
   "source": [
    "\n",
    "# With the while loop, we can execute a set of statements as long as a condition is true.\n",
    "i = 1\n",
    "while i < 6:\n",
    "    print(i)\n",
    "    i += 1\n"
   ]
  },
  {
   "cell_type": "markdown",
   "id": "8fa7e6e9",
   "metadata": {},
   "source": [
    "## 11. For Loops ➰"
   ]
  },
  {
   "cell_type": "code",
   "execution_count": null,
   "id": "550c4d62",
   "metadata": {},
   "outputs": [],
   "source": [
    "\n",
    "# A for loop is used for iterating over a sequence.\n",
    "fruits = [\"apple\", \"banana\", \"cherry\"]\n",
    "for x in fruits:\n",
    "    print(x)\n"
   ]
  },
  {
   "cell_type": "markdown",
   "id": "ed455767",
   "metadata": {},
   "source": [
    "## 12. Nested Loops ➿"
   ]
  },
  {
   "cell_type": "code",
   "execution_count": null,
   "id": "4754b91b",
   "metadata": {},
   "outputs": [],
   "source": [
    "\n",
    "# You can use loops inside loops in Python.\n",
    "adj = [\"red\", \"big\", \"tasty\"]\n",
    "fruits = [\"apple\", \"banana\", \"cherry\"]\n",
    "for x in adj:\n",
    "    for y in fruits:\n",
    "        print(x, y)\n"
   ]
  },
  {
   "cell_type": "markdown",
   "id": "3bec8b06",
   "metadata": {},
   "source": [
    "## 13. Break, Continue, Pass ⛔"
   ]
  },
  {
   "cell_type": "code",
   "execution_count": null,
   "id": "aa368d1b",
   "metadata": {},
   "outputs": [],
   "source": [
    "\n",
    "# Python supports the use of break, continue, and pass statements in loops.\n",
    "for x in range(6):\n",
    "    if x == 3:\n",
    "        break\n",
    "    print(x)\n",
    "\n",
    "for x in range(6):\n",
    "    if x == 3:\n",
    "        continue\n",
    "    print(x)\n",
    "\n",
    "for x in range(6):\n",
    "    pass\n"
   ]
  },
  {
   "cell_type": "markdown",
   "id": "321f0bbc",
   "metadata": {},
   "source": [
    "## 14. Lists 🧾"
   ]
  },
  {
   "cell_type": "code",
   "execution_count": null,
   "id": "6fe6e845",
   "metadata": {},
   "outputs": [],
   "source": [
    "\n",
    "# Lists are used to store multiple items in a single variable.\n",
    "mylist = [\"apple\", \"banana\", \"cherry\"]\n",
    "print(mylist)\n"
   ]
  },
  {
   "cell_type": "markdown",
   "id": "af6e4721",
   "metadata": {},
   "source": [
    "## 15. 2D Lists 📜"
   ]
  },
  {
   "cell_type": "code",
   "execution_count": null,
   "id": "db34909c",
   "metadata": {},
   "outputs": [],
   "source": [
    "\n",
    "# A 2D list is a list of lists.\n",
    "matrix = [[1, 2, 3], [4, 5, 6], [7, 8, 9]]\n",
    "print(matrix)\n"
   ]
  },
  {
   "cell_type": "markdown",
   "id": "fa7185be",
   "metadata": {},
   "source": [
    "## 16. Tuples 📄"
   ]
  },
  {
   "cell_type": "code",
   "execution_count": null,
   "id": "c1cb4ff8",
   "metadata": {},
   "outputs": [],
   "source": [
    "\n",
    "# Tuples are used to store multiple items in a single variable and are immutable.\n",
    "mytuple = (\"apple\", \"banana\", \"cherry\")\n",
    "print(mytuple)\n"
   ]
  },
  {
   "cell_type": "markdown",
   "id": "ea5f146d",
   "metadata": {},
   "source": [
    "## 17. Sets 🍴"
   ]
  },
  {
   "cell_type": "code",
   "execution_count": null,
   "id": "3722a5de",
   "metadata": {},
   "outputs": [],
   "source": [
    "\n",
    "# Sets are used to store multiple items in a single variable and are unordered and unindexed.\n",
    "myset = {\"apple\", \"banana\", \"cherry\"}\n",
    "print(myset)\n"
   ]
  },
  {
   "cell_type": "markdown",
   "id": "32bab63f",
   "metadata": {},
   "source": [
    "## 18. Dictionaries 📖"
   ]
  },
  {
   "cell_type": "code",
   "execution_count": null,
   "id": "39e45e8e",
   "metadata": {},
   "outputs": [],
   "source": [
    "\n",
    "# Dictionaries are used to store data values in key:value pairs.\n",
    "mydict = {\n",
    "  \"brand\": \"Ford\",\n",
    "  \"model\": \"Mustang\",\n",
    "  \"year\": 1964\n",
    "}\n",
    "print(mydict)\n"
   ]
  },
  {
   "cell_type": "markdown",
   "id": "385a05ae",
   "metadata": {},
   "source": [
    "## 19. Indexing 📑"
   ]
  },
  {
   "cell_type": "code",
   "execution_count": null,
   "id": "7767ab5d",
   "metadata": {},
   "outputs": [],
   "source": [
    "\n",
    "# Accessing elements in sequences like lists, tuples, and strings.\n",
    "mylist = [\"apple\", \"banana\", \"cherry\"]\n",
    "print(mylist[1])\n"
   ]
  },
  {
   "cell_type": "markdown",
   "id": "58e100ca",
   "metadata": {},
   "source": [
    "## 20. Functions 📞"
   ]
  },
  {
   "cell_type": "code",
   "execution_count": null,
   "id": "f84d6666",
   "metadata": {},
   "outputs": [],
   "source": [
    "\n",
    "# A function is a block of code which only runs when it is called.\n",
    "def my_function():\n",
    "    print(\"Hello from a function\")\n",
    "\n",
    "my_function()\n"
   ]
  },
  {
   "cell_type": "markdown",
   "id": "a44bde8b",
   "metadata": {},
   "source": [
    "## 21. Return Statement 🔙"
   ]
  },
  {
   "cell_type": "code",
   "execution_count": null,
   "id": "cfc95bba",
   "metadata": {},
   "outputs": [],
   "source": [
    "\n",
    "# The return statement is used to end the execution of the function call and \"returns\" the result.\n",
    "def my_function():\n",
    "    return 3\n",
    "\n",
    "print(my_function())\n"
   ]
  },
  {
   "cell_type": "markdown",
   "id": "0c6a1335",
   "metadata": {},
   "source": [
    "## 22. Keyword Arguments 🔑"
   ]
  },
  {
   "cell_type": "code",
   "execution_count": null,
   "id": "02135216",
   "metadata": {},
   "outputs": [],
   "source": [
    "\n",
    "# Keyword arguments allow you to pass arguments to a function in the form of key-value pairs.\n",
    "def my_function(child3, child2, child1):\n",
    "    print(\"The youngest child is \" + child3)\n",
    "\n",
    "my_function(child1=\"Emil\", child2=\"Tobias\", child3=\"Linus\")\n"
   ]
  },
  {
   "cell_type": "markdown",
   "id": "4cc87539",
   "metadata": {},
   "source": [
    "## 23. Nested Function Calls 🖇️"
   ]
  },
  {
   "cell_type": "code",
   "execution_count": null,
   "id": "e2b82722",
   "metadata": {},
   "outputs": [],
   "source": [
    "\n",
    "# Functions can be called from within other functions.\n",
    "def add(a, b):\n",
    "    return a + b\n",
    "\n",
    "def multiply(a, b):\n",
    "    return a * b\n",
    "\n",
    "result = multiply(add(2, 3), add(4, 5))\n",
    "print(result)\n"
   ]
  },
  {
   "cell_type": "markdown",
   "id": "f86602cd",
   "metadata": {},
   "source": [
    "## 24. Variable Scope 🔬"
   ]
  },
  {
   "cell_type": "code",
   "execution_count": null,
   "id": "b01dbc04",
   "metadata": {},
   "outputs": [],
   "source": [
    "\n",
    "# A variable is only available from inside the region it is created.\n",
    "def myfunc():\n",
    "    x = 300\n",
    "    print(x)\n",
    "\n",
    "myfunc()\n"
   ]
  },
  {
   "cell_type": "markdown",
   "id": "e2a0ad17",
   "metadata": {},
   "source": [
    "## 25. *args 📦"
   ]
  },
  {
   "cell_type": "code",
   "execution_count": null,
   "id": "22c861fe",
   "metadata": {},
   "outputs": [],
   "source": [
    "\n",
    "# *args is used to pass a variable number of non-keyword arguments to a function.\n",
    "def my_function(*kids):\n",
    "    print(\"The youngest child is \" + kids[2])\n",
    "\n",
    "my_function(\"Emil\", \"Tobias\", \"Linus\")\n"
   ]
  },
  {
   "cell_type": "markdown",
   "id": "9ea58e33",
   "metadata": {},
   "source": [
    "## 26. **kwargs 🎁"
   ]
  },
  {
   "cell_type": "code",
   "execution_count": null,
   "id": "33ba2f6f",
   "metadata": {},
   "outputs": [],
   "source": [
    "\n",
    "# **kwargs is used to pass a variable number of keyword arguments to a function.\n",
    "def my_function(**kid):\n",
    "    print(\"His last name is \" + kid[\"lname\"])\n",
    "\n",
    "my_function(fname=\"Tobias\", lname=\"Refsnes\")\n"
   ]
  },
  {
   "cell_type": "markdown",
   "id": "e8fd93a0",
   "metadata": {},
   "source": [
    "## 27. String Format 💬"
   ]
  },
  {
   "cell_type": "code",
   "execution_count": null,
   "id": "66494222",
   "metadata": {},
   "outputs": [],
   "source": [
    "\n",
    "# String format() method allows you to format selected parts of a string.\n",
    "age = 36\n",
    "txt = \"My name is John, and I am {}\"\n",
    "print(txt.format(age))\n"
   ]
  },
  {
   "cell_type": "markdown",
   "id": "44c5275b",
   "metadata": {},
   "source": [
    "## 28. Random Numbers 🎲"
   ]
  },
  {
   "cell_type": "code",
   "execution_count": null,
   "id": "09be2b8b",
   "metadata": {},
   "outputs": [],
   "source": [
    "\n",
    "# Python can generate random numbers using the random module.\n",
    "import random\n",
    "print(random.randint(1, 10))\n"
   ]
  },
  {
   "cell_type": "markdown",
   "id": "60b31ea1",
   "metadata": {},
   "source": [
    "## 29. Exception Handling ⚠️"
   ]
  },
  {
   "cell_type": "code",
   "execution_count": null,
   "id": "4b96be4a",
   "metadata": {},
   "outputs": [],
   "source": [
    "\n",
    "# Python uses try and except to handle exceptions.\n",
    "try:\n",
    "    print(x)\n",
    "except NameError:\n",
    "    print(\"Variable x is not defined\")\n"
   ]
  },
  {
   "cell_type": "markdown",
   "id": "e5742f7b",
   "metadata": {},
   "source": [
    "## 30. File Detection 📁"
   ]
  },
  {
   "cell_type": "code",
   "execution_count": null,
   "id": "18a7b045",
   "metadata": {},
   "outputs": [],
   "source": [
    "\n",
    "# Checking if a file exists or not.\n",
    "import os\n",
    "if os.path.exists(\"demofile.txt\"):\n",
    "    print(\"The file exists\")\n",
    "else:\n",
    "    print(\"The file does not exist\")\n"
   ]
  },
  {
   "cell_type": "markdown",
   "id": "ef14d674",
   "metadata": {},
   "source": [
    "## 31. Read a File 🔍"
   ]
  },
  {
   "cell_type": "code",
   "execution_count": null,
   "id": "9647e670",
   "metadata": {},
   "outputs": [],
   "source": [
    "\n",
    "# Python has several functions for reading data from a file.\n",
    "f = open(\"demofile.txt\", \"r\")\n",
    "print(f.read())\n",
    "f.close()\n"
   ]
  },
  {
   "cell_type": "markdown",
   "id": "54e197e5",
   "metadata": {},
   "source": [
    "## 32. Write a File 📝"
   ]
  },
  {
   "cell_type": "code",
   "execution_count": null,
   "id": "874a2da2",
   "metadata": {},
   "outputs": [],
   "source": [
    "\n",
    "# Writing or appending data to a file.\n",
    "f = open(\"demofile.txt\", \"w\")\n",
    "f.write(\"Now the file has more content!\")\n",
    "f.close()\n"
   ]
  },
  {
   "cell_type": "markdown",
   "id": "ab2b0ed3",
   "metadata": {},
   "source": [
    "## 33. Copy a File 🖨️"
   ]
  },
  {
   "cell_type": "code",
   "execution_count": null,
   "id": "3f9e8536",
   "metadata": {},
   "outputs": [],
   "source": [
    "\n",
    "# Using shutil module to copy a file.\n",
    "import shutil\n",
    "shutil.copyfile(\"demofile.txt\", \"copy_demofile.txt\")\n"
   ]
  },
  {
   "cell_type": "markdown",
   "id": "dd9b7033",
   "metadata": {},
   "source": [
    "## 34. Move a File 🗃️"
   ]
  },
  {
   "cell_type": "code",
   "execution_count": null,
   "id": "37e23bee",
   "metadata": {},
   "outputs": [],
   "source": [
    "\n",
    "# Using shutil module to move a file.\n",
    "shutil.move(\"copy_demofile.txt\", \"moved_demofile.txt\")\n"
   ]
  },
  {
   "cell_type": "markdown",
   "id": "db06b50a",
   "metadata": {},
   "source": [
    "## 34. Delete a File 🗑️"
   ]
  },
  {
   "cell_type": "code",
   "execution_count": null,
   "id": "af9183ba",
   "metadata": {},
   "outputs": [],
   "source": [
    "\n",
    "# Using os module to delete a file.\n",
    "os.remove(\"moved_demofile.txt\")\n"
   ]
  },
  {
   "cell_type": "markdown",
   "id": "a6f2016c",
   "metadata": {},
   "source": [
    "## 35. Modules 💌"
   ]
  },
  {
   "cell_type": "code",
   "execution_count": null,
   "id": "77062b3e",
   "metadata": {},
   "outputs": [],
   "source": [
    "\n",
    "# A module is a file containing Python definitions and statements.\n",
    "# Example\n",
    "def greeting(name):\n",
    "    print(\"Hello, \" + name)\n",
    "\n",
    "# Save this code in a file named mymodule.py\n",
    "import mymodule\n",
    "mymodule.greeting(\"Jonathan\")\n"
   ]
  },
  {
   "cell_type": "markdown",
   "id": "9155fcf1",
   "metadata": {},
   "source": [
    "## 36. Rock, Paper, Scissors Game 🗿"
   ]
  },
  {
   "cell_type": "code",
   "execution_count": null,
   "id": "c658f421",
   "metadata": {},
   "outputs": [],
   "source": [
    "\n",
    "import random\n",
    "\n",
    "def play():\n",
    "    user = input(\"What's your choice? 'r' for rock, 'p' for paper, 's' for scissors: \")\n",
    "    computer = random.choice(['r', 'p', 's'])\n",
    "\n",
    "    if user == computer:\n",
    "        return 'Its a tie!'\n",
    "\n",
    "    if is_win(user, computer):\n",
    "        return 'You won!'\n",
    "\n",
    "    return 'You lost!'\n",
    "\n",
    "def is_win(player, opponent):\n",
    "    # return true if player wins\n",
    "    # r > s, s > p, p > r\n",
    "    if (player == 'r' and opponent == 's') or (player == 's' and opponent == 'p') or (player == 'p' and opponent == 'r'):\n",
    "        return True\n",
    "    return False\n",
    "\n",
    "print(play())\n"
   ]
  },
  {
   "cell_type": "markdown",
   "id": "2c2c5947",
   "metadata": {},
   "source": [
    "## 37. Quiz Game 💯"
   ]
  },
  {
   "cell_type": "code",
   "execution_count": null,
   "id": "e4f7dc64",
   "metadata": {},
   "outputs": [],
   "source": [
    "\n",
    "def new_game():\n",
    "    guesses = []\n",
    "    correct_guesses = 0\n",
    "    question_num = 1\n",
    "\n",
    "    for key in questions:\n",
    "        print(\"-------------------------\")\n",
    "        print(key)\n",
    "        for i in options[question_num-1]:\n",
    "            print(i)\n",
    "        guess = input(\"Enter (A, B, C, or D): \")\n",
    "        guess = guess.upper()\n",
    "        guesses.append(guess)\n",
    "\n",
    "        correct_guesses += check_answer(questions.get(key), guess)\n",
    "        question_num += 1\n",
    "\n",
    "    display_score(correct_guesses, guesses)\n",
    "\n",
    "def check_answer(answer, guess):\n",
    "    if answer == guess:\n",
    "        print(\"CORRECT!\")\n",
    "        return 1\n",
    "    else:\n",
    "        print(\"WRONG!\")\n",
    "        return 0\n",
    "\n",
    "def display_score(correct_guesses, guesses):\n",
    "    print(\"-------------------------\")\n",
    "    print(\"RESULTS\")\n",
    "    print(\"-------------------------\")\n",
    "    print(\"Answers: \", end=\"\")\n",
    "    for i in questions:\n",
    "        print(questions.get(i), end=\" \")\n",
    "    print()\n",
    "\n",
    "    print(\"Guesses: \", end=\"\")\n",
    "    for i in guesses:\n",
    "        print(i, end=\" \")\n",
    "    print()\n",
    "\n",
    "    score = int((correct_guesses/len(questions))*100)\n",
    "    print(\"Your score is: \"+str(score)+\"%\")\n",
    "\n",
    "questions = {\n",
    "    \"Who created Python?: \": \"A\",\n",
    "    \"What year was Python created?: \": \"B\",\n",
    "    \"Python is tributed to which comedy group?: \": \"C\",\n",
    "    \"Is the Earth round?: \": \"A\"\n",
    "}\n",
    "\n",
    "options = [[\"A. Guido van Rossum\", \"B. Elon Musk\", \"C. Bill Gates\", \"D. Mark Zuckerberg\"],\n",
    "          [\"A. 1989\", \"B. 1991\", \"C. 2000\", \"D. 2016\"],\n",
    "          [\"A. Lonely Island\", \"B. Smosh\", \"C. Monty Python\", \"D. SNL\"],\n",
    "          [\"A. True\",\"B. False\",\"C. sometimes\",\"D. What's Earth?\"]]\n",
    "\n",
    "new_game()\n",
    "\n",
    "while input(\"Do you want to play again? (yes/no): \").lower() == \"yes\":\n",
    "    new_game()\n",
    "\n",
    "print(\"Thank you for playing!\")\n"
   ]
  }
 ],
 "metadata": {
  "language_info": {
   "name": "python"
  }
 },
 "nbformat": 4,
 "nbformat_minor": 5
}
