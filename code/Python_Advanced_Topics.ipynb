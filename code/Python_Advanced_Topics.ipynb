{
 "cells": [
  {
   "cell_type": "markdown",
   "id": "c6aee1c7",
   "metadata": {},
   "source": [
    "\n",
    "# Python Advanced Topics 🐍\n",
    "_(Author: [joao.campagnolo@sund.ku.dk](joao.campagnolo@sund.ku.dk) (& Chat GPT); Spring 2024)_\n",
    "\n",
    "## 40. Object Oriented Programming (OOP) 🐍\n",
    "Object-Oriented Programming (OOP) is a programming paradigm based on the concept of \"objects\", which can contain data and code: data in the form of fields, and code in the form of procedures.\n"
   ]
  },
  {
   "cell_type": "code",
   "execution_count": null,
   "id": "7d840895",
   "metadata": {},
   "outputs": [],
   "source": [
    "\n",
    "# Example of a class in Python\n",
    "class Dog:\n",
    "    def __init__(self, name, age):\n",
    "        self.name = name\n",
    "        self.age = age\n",
    "\n",
    "    def bark(self):\n",
    "        return f\"{self.name} says woof!\"\n",
    "\n",
    "dog1 = Dog(\"Buddy\", 3)\n",
    "print(dog1.bark())\n"
   ]
  },
  {
   "cell_type": "markdown",
   "id": "55b697bb",
   "metadata": {},
   "source": [
    "## 41. Class Variables 🚗"
   ]
  },
  {
   "cell_type": "code",
   "execution_count": null,
   "id": "59f63237",
   "metadata": {},
   "outputs": [],
   "source": [
    "\n",
    "# Class variables are shared across all instances of the class.\n",
    "class Dog:\n",
    "    species = \"Canis familiaris\"\n",
    "\n",
    "    def __init__(self, name, age):\n",
    "        self.name = name\n",
    "        self.age = age\n",
    "\n",
    "dog1 = Dog(\"Buddy\", 3)\n",
    "dog2 = Dog(\"Lucy\", 5)\n",
    "print(dog1.species)\n",
    "print(dog2.species)\n"
   ]
  },
  {
   "cell_type": "markdown",
   "id": "0b0295a1",
   "metadata": {},
   "source": [
    "## 42. Inheritance 👪"
   ]
  },
  {
   "cell_type": "code",
   "execution_count": null,
   "id": "0180f26d",
   "metadata": {},
   "outputs": [],
   "source": [
    "\n",
    "# Inheritance allows us to define a class that inherits all the methods and properties from another class.\n",
    "class Animal:\n",
    "    def __init__(self, name):\n",
    "        self.name = name\n",
    "\n",
    "    def speak(self):\n",
    "        raise NotImplementedError(\"Subclass must implement abstract method\")\n",
    "\n",
    "class Dog(Animal):\n",
    "    def speak(self):\n",
    "        return f\"{self.name} says woof!\"\n",
    "\n",
    "class Cat(Animal):\n",
    "    def speak(self):\n",
    "        return f\"{self.name} says meow!\"\n",
    "\n",
    "dog = Dog(\"Buddy\")\n",
    "cat = Cat(\"Whiskers\")\n",
    "print(dog.speak())\n",
    "print(cat.speak())\n"
   ]
  },
  {
   "cell_type": "markdown",
   "id": "00ef79cf",
   "metadata": {},
   "source": [
    "## 43. Multilevel Inheritance 👴"
   ]
  },
  {
   "cell_type": "code",
   "execution_count": null,
   "id": "25e2f94d",
   "metadata": {},
   "outputs": [],
   "source": [
    "\n",
    "# Multilevel inheritance is a feature of OOP where a class can inherit from a class which can inherit from another class.\n",
    "class Animal:\n",
    "    def __init__(self, name):\n",
    "        self.name = name\n",
    "\n",
    "class Mammal(Animal):\n",
    "    def __init__(self, name, has_fur):\n",
    "        super().__init__(name)\n",
    "        self.has_fur = has_fur\n",
    "\n",
    "class Dog(Mammal):\n",
    "    def __init__(self, name, has_fur, breed):\n",
    "        super().__init__(name, has_fur)\n",
    "        self.breed = breed\n",
    "\n",
    "dog = Dog(\"Buddy\", True, \"Golden Retriever\")\n",
    "print(dog.name, dog.has_fur, dog.breed)\n"
   ]
  },
  {
   "cell_type": "markdown",
   "id": "f9e1c3a5",
   "metadata": {},
   "source": [
    "## 44. Multiple Inheritance 👨‍👩‍👧‍👦"
   ]
  },
  {
   "cell_type": "code",
   "execution_count": null,
   "id": "9cbd8736",
   "metadata": {},
   "outputs": [],
   "source": [
    "\n",
    "# Multiple inheritance is when a class is derived from more than one base class.\n",
    "class Canine:\n",
    "    def bark(self):\n",
    "        return \"Woof!\"\n",
    "\n",
    "class Domestic:\n",
    "    def is_pet(self):\n",
    "        return True\n",
    "\n",
    "class Dog(Canine, Domestic):\n",
    "    pass\n",
    "\n",
    "dog = Dog()\n",
    "print(dog.bark())\n",
    "print(dog.is_pet())\n"
   ]
  },
  {
   "cell_type": "markdown",
   "id": "ccb7a74e",
   "metadata": {},
   "source": [
    "## 45. Method Overriding 🙅"
   ]
  },
  {
   "cell_type": "code",
   "execution_count": null,
   "id": "e916725d",
   "metadata": {},
   "outputs": [],
   "source": [
    "\n",
    "# Method overriding allows a subclass to provide a specific implementation of a method already defined in its superclass.\n",
    "class Animal:\n",
    "    def speak(self):\n",
    "        return \"Some generic sound\"\n",
    "\n",
    "class Dog(Animal):\n",
    "    def speak(self):\n",
    "        return \"Woof!\"\n",
    "\n",
    "dog = Dog()\n",
    "print(dog.speak())\n"
   ]
  },
  {
   "cell_type": "markdown",
   "id": "ee9a85d2",
   "metadata": {},
   "source": [
    "## 46. Method Chaining ⛓️"
   ]
  },
  {
   "cell_type": "code",
   "execution_count": null,
   "id": "689501c1",
   "metadata": {},
   "outputs": [],
   "source": [
    "\n",
    "# Method chaining is a technique where multiple methods are called on the same object in a single statement.\n",
    "class Car:\n",
    "    def __init__(self, make, model):\n",
    "        self.make = make\n",
    "        self.model = model\n",
    "\n",
    "    def set_color(self, color):\n",
    "        self.color = color\n",
    "        return self\n",
    "\n",
    "    def set_year(self, year):\n",
    "        self.year = year\n",
    "        return self\n",
    "\n",
    "car = Car(\"Toyota\", \"Corolla\").set_color(\"Red\").set_year(2020)\n",
    "print(car.make, car.model, car.color, car.year)\n"
   ]
  },
  {
   "cell_type": "markdown",
   "id": "3cca8a81",
   "metadata": {},
   "source": [
    "## 47. Super Function 🦸"
   ]
  },
  {
   "cell_type": "code",
   "execution_count": null,
   "id": "49a1b105",
   "metadata": {},
   "outputs": [],
   "source": [
    "\n",
    "# The super() function allows us to call a method from the parent class.\n",
    "class Animal:\n",
    "    def __init__(self, name):\n",
    "        self.name = name\n",
    "\n",
    "class Dog(Animal):\n",
    "    def __init__(self, name, breed):\n",
    "        super().__init__(name)\n",
    "        self.breed = breed\n",
    "\n",
    "dog = Dog(\"Buddy\", \"Golden Retriever\")\n",
    "print(dog.name, dog.breed)\n"
   ]
  },
  {
   "cell_type": "markdown",
   "id": "ddd1a09f",
   "metadata": {},
   "source": [
    "## 48. Abstract Classes 👻"
   ]
  },
  {
   "cell_type": "code",
   "execution_count": null,
   "id": "001bd1b6",
   "metadata": {},
   "outputs": [],
   "source": [
    "\n",
    "# Abstract classes are classes that contain one or more abstract methods.\n",
    "from abc import ABC, abstractmethod\n",
    "\n",
    "class Animal(ABC):\n",
    "    @abstractmethod\n",
    "    def speak(self):\n",
    "        pass\n",
    "\n",
    "class Dog(Animal):\n",
    "    def speak(self):\n",
    "        return \"Woof!\"\n",
    "\n",
    "dog = Dog()\n",
    "print(dog.speak())\n"
   ]
  },
  {
   "cell_type": "markdown",
   "id": "b605f1f9",
   "metadata": {},
   "source": [
    "## 49. Objects as Arguments 🏍️"
   ]
  },
  {
   "cell_type": "code",
   "execution_count": null,
   "id": "7044ac35",
   "metadata": {},
   "outputs": [],
   "source": [
    "\n",
    "# Objects can be passed as arguments to functions.\n",
    "class Car:\n",
    "    def __init__(self, make, model):\n",
    "        self.make = make\n",
    "        self.model = model\n",
    "\n",
    "def print_car(car):\n",
    "    print(f\"Car make: {car.make}, model: {car.model}\")\n",
    "\n",
    "my_car = Car(\"Toyota\", \"Corolla\")\n",
    "print_car(my_car)\n"
   ]
  },
  {
   "cell_type": "markdown",
   "id": "8f602c9f",
   "metadata": {},
   "source": [
    "## 50. Duck Typing 🦆"
   ]
  },
  {
   "cell_type": "code",
   "execution_count": null,
   "id": "cc544884",
   "metadata": {},
   "outputs": [],
   "source": [
    "\n",
    "# Duck typing is a concept related to dynamic typing, where the class of an object is determined by its behavior (methods and properties) rather than its inheritance.\n",
    "class Bird:\n",
    "    def fly(self):\n",
    "        return \"Flies in the sky\"\n",
    "\n",
    "class Airplane:\n",
    "    def fly(self):\n",
    "        return \"Flies in the air\"\n",
    "\n",
    "def let_it_fly(obj):\n",
    "    print(obj.fly())\n",
    "\n",
    "bird = Bird()\n",
    "plane = Airplane()\n",
    "let_it_fly(bird)\n",
    "let_it_fly(plane)\n"
   ]
  },
  {
   "cell_type": "markdown",
   "id": "f15259ea",
   "metadata": {},
   "source": [
    "## 51. Walrus Operator 🦦"
   ]
  },
  {
   "cell_type": "code",
   "execution_count": null,
   "id": "5d2356c1",
   "metadata": {},
   "outputs": [],
   "source": [
    "\n",
    "# The walrus operator (:=) allows you to assign values to variables as part of an expression.\n",
    "if (n := 10) > 5:\n",
    "    print(f\"n is greater than 5: {n}\")\n"
   ]
  },
  {
   "cell_type": "markdown",
   "id": "27a3619f",
   "metadata": {},
   "source": [
    "## 52. Functions to Variables 📛"
   ]
  },
  {
   "cell_type": "code",
   "execution_count": null,
   "id": "42fb2404",
   "metadata": {},
   "outputs": [],
   "source": [
    "\n",
    "# In Python, functions can be assigned to variables.\n",
    "def greet(name):\n",
    "    return f\"Hello, {name}\"\n",
    "\n",
    "say_hello = greet\n",
    "print(say_hello(\"Alice\"))\n"
   ]
  },
  {
   "cell_type": "markdown",
   "id": "08e60743",
   "metadata": {},
   "source": [
    "## 53. Higher Order Functions 👑"
   ]
  },
  {
   "cell_type": "code",
   "execution_count": null,
   "id": "2573cb71",
   "metadata": {},
   "outputs": [],
   "source": [
    "\n",
    "# Higher-order functions are functions that take other functions as arguments or return them as results.\n",
    "def shout(text):\n",
    "    return text.upper()\n",
    "\n",
    "def whisper(text):\n",
    "    return text.lower()\n",
    "\n",
    "def greet(func):\n",
    "    greeting = func(\"Hello, World\")\n",
    "    print(greeting)\n",
    "\n",
    "greet(shout)\n",
    "greet(whisper)\n"
   ]
  },
  {
   "cell_type": "markdown",
   "id": "4c6badc5",
   "metadata": {},
   "source": [
    "## 54. Lambda λ"
   ]
  },
  {
   "cell_type": "code",
   "execution_count": null,
   "id": "efa55fd8",
   "metadata": {},
   "outputs": [],
   "source": [
    "\n",
    "# A lambda function is a small anonymous function.\n",
    "add = lambda x, y: x + y\n",
    "print(add(2, 3))\n"
   ]
  },
  {
   "cell_type": "markdown",
   "id": "09834923",
   "metadata": {},
   "source": [
    "## 55. Sort 🗄️"
   ]
  },
  {
   "cell_type": "code",
   "execution_count": null,
   "id": "9aec8f57",
   "metadata": {},
   "outputs": [],
   "source": [
    "\n",
    "# The sort() method sorts the elements of a given list in a specific ascending or descending order.\n",
    "numbers = [4, 2, 9, 1]\n",
    "numbers.sort()\n",
    "print(numbers)\n"
   ]
  },
  {
   "cell_type": "markdown",
   "id": "292537f7",
   "metadata": {},
   "source": [
    "## 56. Map 🗺️"
   ]
  },
  {
   "cell_type": "code",
   "execution_count": null,
   "id": "67bfaa8f",
   "metadata": {},
   "outputs": [],
   "source": [
    "\n",
    "# The map() function applies a given function to each item of an iterable and returns a list of the results.\n",
    "numbers = [1, 2, 3, 4]\n",
    "squared = list(map(lambda x: x**2, numbers))\n",
    "print(squared)\n"
   ]
  },
  {
   "cell_type": "markdown",
   "id": "f9712458",
   "metadata": {},
   "source": [
    "## 57. Filter 🍺"
   ]
  },
  {
   "cell_type": "code",
   "execution_count": 1,
   "id": "2d8190b6",
   "metadata": {},
   "outputs": [
    {
     "name": "stdout",
     "output_type": "stream",
     "text": [
      "[2, 4, 6]\n"
     ]
    }
   ],
   "source": [
    "\n",
    "# The filter() function constructs an iterator from elements of an iterable for which a function returns true.\n",
    "numbers = [1, 2, 3, 4, 5, 6]\n",
    "evens = list(filter(lambda x: x % 2 == 0, numbers))\n",
    "print(evens)\n"
   ]
  },
  {
   "cell_type": "markdown",
   "id": "b04e9bf5",
   "metadata": {},
   "source": [
    "## 58. Reduce ♻️"
   ]
  },
  {
   "cell_type": "code",
   "execution_count": 2,
   "id": "d8a56b8c",
   "metadata": {},
   "outputs": [
    {
     "name": "stdout",
     "output_type": "stream",
     "text": [
      "10\n"
     ]
    }
   ],
   "source": [
    "\n",
    "# The reduce() function applies a rolling computation to sequential pairs of values in a list.\n",
    "from functools import reduce\n",
    "\n",
    "numbers = [1, 2, 3, 4]\n",
    "sum = reduce(lambda x, y: x + y, numbers)\n",
    "print(sum)\n"
   ]
  },
  {
   "cell_type": "markdown",
   "id": "4acad64e",
   "metadata": {},
   "source": [
    "## 59. List Comprehensions 📰"
   ]
  },
  {
   "cell_type": "code",
   "execution_count": null,
   "id": "e811592f",
   "metadata": {},
   "outputs": [],
   "source": [
    "\n",
    "# List comprehensions provide a concise way to create lists.\n",
    "squares = [x**2 for x in range(10)]\n",
    "print(squares)\n"
   ]
  },
  {
   "cell_type": "markdown",
   "id": "908c2f25",
   "metadata": {},
   "source": [
    "## 60. Dictionary Comprehensions 🕮"
   ]
  },
  {
   "cell_type": "code",
   "execution_count": null,
   "id": "622831e4",
   "metadata": {},
   "outputs": [],
   "source": [
    "\n",
    "# Dictionary comprehensions provide a concise way to create dictionaries.\n",
    "squares = {x: x**2 for x in range(10)}\n",
    "print(squares)\n"
   ]
  },
  {
   "cell_type": "markdown",
   "id": "441e4af3",
   "metadata": {},
   "source": [
    "## 61. Zip Function 🤐"
   ]
  },
  {
   "cell_type": "code",
   "execution_count": null,
   "id": "77fe99c8",
   "metadata": {},
   "outputs": [],
   "source": [
    "\n",
    "# The zip() function returns a zip object, which is an iterator of tuples where the first item in each passed iterator is paired together.\n",
    "names = [\"Alice\", \"Bob\", \"Charlie\"]\n",
    "scores = [85, 90, 95]\n",
    "students = dict(zip(names, scores))\n",
    "print(students)\n"
   ]
  },
  {
   "cell_type": "markdown",
   "id": "94f05484",
   "metadata": {},
   "source": [
    "## 62. if __name__ == '__main__' ❓"
   ]
  },
  {
   "cell_type": "code",
   "execution_count": null,
   "id": "92676900",
   "metadata": {},
   "outputs": [],
   "source": [
    "\n",
    "# The __name__ variable allows you to run code only if the file was run directly, and not imported.\n",
    "if __name__ == \"__main__\":\n",
    "    print(\"This script is being run directly\")\n",
    "else:\n",
    "    print(\"This script is being imported\")\n"
   ]
  },
  {
   "cell_type": "markdown",
   "id": "51c58833",
   "metadata": {},
   "source": [
    "## 63. Time Module ⌚"
   ]
  },
  {
   "cell_type": "code",
   "execution_count": null,
   "id": "b29524b0",
   "metadata": {},
   "outputs": [],
   "source": [
    "\n",
    "# The time module provides various time-related functions.\n",
    "import time\n",
    "\n",
    "print(\"Start\")\n",
    "time.sleep(2)\n",
    "print(\"End after 2 seconds\")\n"
   ]
  },
  {
   "cell_type": "markdown",
   "id": "333c08a0",
   "metadata": {},
   "source": [
    "## 64. Threading 🧵"
   ]
  },
  {
   "cell_type": "code",
   "execution_count": null,
   "id": "306a61e0",
   "metadata": {},
   "outputs": [],
   "source": [
    "\n",
    "# The threading module provides a way to create and manage threads in Python.\n",
    "import threading\n",
    "\n",
    "def print_numbers():\n",
    "    for i in range(5):\n",
    "        print(i)\n",
    "        time.sleep(1)\n",
    "\n",
    "thread = threading.Thread(target=print_numbers)\n",
    "thread.start()\n",
    "thread.join()\n"
   ]
  },
  {
   "cell_type": "markdown",
   "id": "e86cd924",
   "metadata": {},
   "source": [
    "## 65. Daemon Threads 😈"
   ]
  },
  {
   "cell_type": "code",
   "execution_count": null,
   "id": "5f8283ce",
   "metadata": {},
   "outputs": [],
   "source": [
    "\n",
    "# Daemon threads are threads that run in the background and do not prevent the program from exiting.\n",
    "import threading\n",
    "import time\n",
    "\n",
    "def background_task():\n",
    "    while True:\n",
    "        print(\"Running in the background\")\n",
    "        time.sleep(1)\n",
    "\n",
    "thread = threading.Thread(target=background_task)\n",
    "thread.daemon = True\n",
    "thread.start()\n",
    "time.sleep(3)\n",
    "print(\"Main program ends\")\n"
   ]
  },
  {
   "cell_type": "markdown",
   "id": "02fa5844",
   "metadata": {},
   "source": [
    "## 66. Multiprocessing ⚡"
   ]
  },
  {
   "cell_type": "code",
   "execution_count": null,
   "id": "4c3fcb9e",
   "metadata": {},
   "outputs": [],
   "source": [
    "\n",
    "# The multiprocessing module allows you to create and manage separate processes.\n",
    "import multiprocessing\n",
    "\n",
    "def print_numbers():\n",
    "    for i in range(5):\n",
    "        print(i)\n",
    "        time.sleep(1)\n",
    "\n",
    "process = multiprocessing.Process(target=print_numbers)\n",
    "process.start()\n",
    "process.join()\n"
   ]
  },
  {
   "cell_type": "markdown",
   "id": "5e29bbed",
   "metadata": {},
   "source": [
    "## 67. GUI Windows 🖼️"
   ]
  },
  {
   "cell_type": "code",
   "execution_count": null,
   "id": "91cdcda8",
   "metadata": {},
   "outputs": [],
   "source": [
    "\n",
    "# Creating a simple GUI window using tkinter.\n",
    "import tkinter as tk\n",
    "\n",
    "window = tk.Tk()\n",
    "window.title(\"Simple GUI\")\n",
    "window.geometry(\"300x200\")\n",
    "window.mainloop()\n"
   ]
  },
  {
   "cell_type": "markdown",
   "id": "39044220",
   "metadata": {},
   "source": [
    "## 68. Labels 🏷️"
   ]
  },
  {
   "cell_type": "code",
   "execution_count": null,
   "id": "50741674",
   "metadata": {},
   "outputs": [],
   "source": [
    "\n",
    "# Adding a label to a tkinter window.\n",
    "import tkinter as tk\n",
    "\n",
    "window = tk.Tk()\n",
    "window.title(\"Simple GUI\")\n",
    "\n",
    "label = tk.Label(window, text=\"Hello, Tkinter!\")\n",
    "label.pack()\n",
    "\n",
    "window.mainloop()\n"
   ]
  },
  {
   "cell_type": "markdown",
   "id": "12d019c3",
   "metadata": {},
   "source": [
    "## 69. Buttons 🛎️"
   ]
  },
  {
   "cell_type": "code",
   "execution_count": null,
   "id": "ee44dc78",
   "metadata": {},
   "outputs": [],
   "source": [
    "\n",
    "# Adding a button to a tkinter window.\n",
    "import tkinter as tk\n",
    "\n",
    "def on_button_click():\n",
    "    print(\"Button clicked!\")\n",
    "\n",
    "window = tk.Tk()\n",
    "window.title(\"Simple GUI\")\n",
    "\n",
    "button = tk.Button(window, text=\"Click Me\", command=on_button_click)\n",
    "button.pack()\n",
    "\n",
    "window.mainloop()\n"
   ]
  },
  {
   "cell_type": "markdown",
   "id": "2c44ea96",
   "metadata": {},
   "source": [
    "## 70. Entrybox ⌨️"
   ]
  },
  {
   "cell_type": "code",
   "execution_count": 3,
   "id": "11239d26",
   "metadata": {},
   "outputs": [
    {
     "name": "stdout",
     "output_type": "stream",
     "text": [
      "User input: \n"
     ]
    }
   ],
   "source": [
    "\n",
    "# Adding an entry box to a tkinter window.\n",
    "import tkinter as tk\n",
    "\n",
    "def on_button_click():\n",
    "    user_input = entry.get()\n",
    "    print(f\"User input: {user_input}\")\n",
    "\n",
    "window = tk.Tk()\n",
    "window.title(\"Simple GUI\")\n",
    "\n",
    "entry = tk.Entry(window)\n",
    "entry.pack()\n",
    "\n",
    "button = tk.Button(window, text=\"Submit\", command=on_button_click)\n",
    "button.pack()\n",
    "\n",
    "window.mainloop()\n"
   ]
  },
  {
   "cell_type": "markdown",
   "id": "9a71b86c",
   "metadata": {},
   "source": [
    "## 71. Checkbox ✔️"
   ]
  },
  {
   "cell_type": "code",
   "execution_count": null,
   "id": "88fffa40",
   "metadata": {},
   "outputs": [],
   "source": [
    "\n",
    "# Adding a checkbox to a tkinter window.\n",
    "import tkinter as tk\n",
    "\n",
    "def on_checkbox_click():\n",
    "    print(f\"Checkbox value: {checkbox_var.get()}\")\n",
    "\n",
    "window = tk.Tk()\n",
    "window.title(\"Simple GUI\")\n",
    "\n",
    "checkbox_var = tk.BooleanVar()\n",
    "checkbox = tk.Checkbutton(window, text=\"Check Me\", variable=checkbox_var, command=on_checkbox_click)\n",
    "checkbox.pack()\n",
    "\n",
    "window.mainloop()\n"
   ]
  },
  {
   "cell_type": "markdown",
   "id": "2808f3cc",
   "metadata": {},
   "source": [
    "## 72. Radio Buttons 🔘"
   ]
  },
  {
   "cell_type": "code",
   "execution_count": null,
   "id": "b09fb6f7",
   "metadata": {},
   "outputs": [],
   "source": [
    "\n",
    "# Adding radio buttons to a tkinter window.\n",
    "import tkinter as tk\n",
    "\n",
    "def on_radio_button_click():\n",
    "    print(f\"Selected value: {radio_var.get()}\")\n",
    "\n",
    "window = tk.Tk()\n",
    "window.title(\"Simple GUI\")\n",
    "\n",
    "radio_var = tk.StringVar()\n",
    "radio1 = tk.Radiobutton(window, text=\"Option 1\", variable=radio_var, value=\"Option 1\", command=on_radio_button_click)\n",
    "radio2 = tk.Radiobutton(window, text=\"Option 2\", variable=radio_var, value=\"Option 2\", command=on_radio_button_click)\n",
    "radio1.pack()\n",
    "radio2.pack()\n",
    "\n",
    "window.mainloop()\n"
   ]
  },
  {
   "cell_type": "markdown",
   "id": "83188119",
   "metadata": {},
   "source": [
    "## 73. Scale 🌡️"
   ]
  },
  {
   "cell_type": "code",
   "execution_count": null,
   "id": "6a509566",
   "metadata": {},
   "outputs": [],
   "source": [
    "\n",
    "# Adding a scale widget to a tkinter window.\n",
    "import tkinter as tk\n",
    "\n",
    "def on_scale_change(value):\n",
    "    print(f\"Scale value: {value}\")\n",
    "\n",
    "window = tk.Tk()\n",
    "window.title(\"Simple GUI\")\n",
    "\n",
    "scale = tk.Scale(window, from_=0, to=100, orient='horizontal', command=on_scale_change)\n",
    "scale.pack()\n",
    "\n",
    "window.mainloop()\n"
   ]
  },
  {
   "cell_type": "markdown",
   "id": "587ed50e",
   "metadata": {},
   "source": [
    "## 74. Listbox 📋"
   ]
  },
  {
   "cell_type": "code",
   "execution_count": null,
   "id": "fa65cf3e",
   "metadata": {},
   "outputs": [],
   "source": [
    "\n",
    "# Adding a listbox to a tkinter window.\n",
    "import tkinter as tk\n",
    "\n",
    "def on_listbox_select(event):\n",
    "    selected = listbox.get(listbox.curselection())\n",
    "    print(f\"Selected: {selected}\")\n",
    "\n",
    "window = tk.Tk()\n",
    "window.title(\"Simple GUI\")\n",
    "\n",
    "listbox = tk.Listbox(window)\n",
    "listbox.insert(1, \"Option 1\")\n",
    "listbox.insert(2, \"Option 2\")\n",
    "listbox.insert(3, \"Option 3\")\n",
    "listbox.bind(\"<<ListboxSelect>>\", on_listbox_select)\n",
    "listbox.pack()\n",
    "\n",
    "window.mainloop()\n"
   ]
  },
  {
   "cell_type": "markdown",
   "id": "2d134ebc",
   "metadata": {},
   "source": [
    "## 75. Messagebox 💭"
   ]
  },
  {
   "cell_type": "code",
   "execution_count": null,
   "id": "3c2a1f4a",
   "metadata": {},
   "outputs": [],
   "source": [
    "\n",
    "# Displaying a messagebox in tkinter.\n",
    "import tkinter as tk\n",
    "from tkinter import messagebox\n",
    "\n",
    "def on_button_click():\n",
    "    messagebox.showinfo(\"Information\", \"Hello, Tkinter!\")\n",
    "\n",
    "window = tk.Tk()\n",
    "window.title(\"Simple GUI\")\n",
    "\n",
    "button = tk.Button(window, text=\"Show Message\", command=on_button_click)\n",
    "button.pack()\n",
    "\n",
    "window.mainloop()\n"
   ]
  },
  {
   "cell_type": "markdown",
   "id": "77d26011",
   "metadata": {},
   "source": [
    "## 76. Colorchooser 🎨"
   ]
  },
  {
   "cell_type": "code",
   "execution_count": null,
   "id": "ac39070b",
   "metadata": {},
   "outputs": [],
   "source": [
    "\n",
    "# Using the colorchooser dialog in tkinter.\n",
    "import tkinter as tk\n",
    "from tkinter import colorchooser\n",
    "\n",
    "def on_button_click():\n",
    "    color = colorchooser.askcolor()\n",
    "    print(f\"Selected color: {color}\")\n",
    "\n",
    "window = tk.Tk()\n",
    "window.title(\"Simple GUI\")\n",
    "\n",
    "button = tk.Button(window, text=\"Choose Color\", command=on_button_click)\n",
    "button.pack()\n",
    "\n",
    "window.mainloop()\n"
   ]
  },
  {
   "cell_type": "markdown",
   "id": "2e0b2cff",
   "metadata": {},
   "source": [
    "## 77. Text Area 📒"
   ]
  },
  {
   "cell_type": "code",
   "execution_count": null,
   "id": "0eb0cd07",
   "metadata": {},
   "outputs": [],
   "source": [
    "\n",
    "# Adding a text area to a tkinter window.\n",
    "import tkinter as tk\n",
    "\n",
    "window = tk.Tk()\n",
    "window.title(\"Simple GUI\")\n",
    "\n",
    "text_area = tk.Text(window)\n",
    "text_area.pack()\n",
    "\n",
    "window.mainloop()\n"
   ]
  },
  {
   "cell_type": "markdown",
   "id": "ca095742",
   "metadata": {},
   "source": [
    "## 78. Open a File (File Dialog) 📁"
   ]
  },
  {
   "cell_type": "code",
   "execution_count": 4,
   "id": "d0f047bd",
   "metadata": {},
   "outputs": [
    {
     "name": "stdout",
     "output_type": "stream",
     "text": [
      "Selected file: \n"
     ]
    }
   ],
   "source": [
    "\n",
    "# Opening a file using the file dialog in tkinter.\n",
    "import tkinter as tk\n",
    "from tkinter import filedialog\n",
    "\n",
    "def on_button_click():\n",
    "    file_path = filedialog.askopenfilename()\n",
    "    print(f\"Selected file: {file_path}\")\n",
    "\n",
    "window = tk.Tk()\n",
    "window.title(\"Simple GUI\")\n",
    "\n",
    "button = tk.Button(window, text=\"Open File\", command=on_button_click)\n",
    "button.pack()\n",
    "\n",
    "window.mainloop()\n"
   ]
  },
  {
   "cell_type": "markdown",
   "id": "a0986d04",
   "metadata": {},
   "source": [
    "## 79. Save a File (File Dialog) 💾"
   ]
  },
  {
   "cell_type": "code",
   "execution_count": null,
   "id": "39266356",
   "metadata": {},
   "outputs": [],
   "source": [
    "\n",
    "# Saving a file using the file dialog in tkinter.\n",
    "import tkinter as tk\n",
    "from tkinter import filedialog\n",
    "\n",
    "def on_button_click():\n",
    "    file_path = filedialog.asksaveasfilename()\n",
    "    print(f\"File to save: {file_path}\")\n",
    "\n",
    "window = tk.Tk()\n",
    "window.title(\"Simple GUI\")\n",
    "\n",
    "button = tk.Button(window, text=\"Save File\", command=on_button_click)\n",
    "button.pack()\n",
    "\n",
    "window.mainloop()\n"
   ]
  },
  {
   "cell_type": "markdown",
   "id": "bc6f4d50",
   "metadata": {},
   "source": [
    "## 80. Menubar 🧾"
   ]
  },
  {
   "cell_type": "code",
   "execution_count": null,
   "id": "ad8d147f",
   "metadata": {},
   "outputs": [],
   "source": [
    "\n",
    "# Adding a menubar to a tkinter window.\n",
    "import tkinter as tk\n",
    "\n",
    "def on_menu_click():\n",
    "    print(\"Menu item clicked\")\n",
    "\n",
    "window = tk.Tk()\n",
    "window.title(\"Simple GUI\")\n",
    "\n",
    "menubar = tk.Menu(window)\n",
    "file_menu = tk.Menu(menubar, tearoff=0)\n",
    "file_menu.add_command(label=\"Open\", command=on_menu_click)\n",
    "file_menu.add_command(label=\"Save\", command=on_menu_click)\n",
    "file_menu.add_separator()\n",
    "file_menu.add_command(label=\"Exit\", command=window.quit)\n",
    "menubar.add_cascade(label=\"File\", menu=file_menu)\n",
    "\n",
    "window.config(menu=menubar)\n",
    "window.mainloop()\n"
   ]
  },
  {
   "cell_type": "markdown",
   "id": "9671947c",
   "metadata": {},
   "source": [
    "## 81. Frames ⚰️"
   ]
  },
  {
   "cell_type": "code",
   "execution_count": null,
   "id": "ec25618c",
   "metadata": {},
   "outputs": [],
   "source": [
    "\n",
    "# Adding a frame to a tkinter window.\n",
    "import tkinter as tk\n",
    "\n",
    "window = tk.Tk()\n",
    "window.title(\"Simple GUI\")\n",
    "\n",
    "frame = tk.Frame(window)\n",
    "frame.pack()\n",
    "\n",
    "button = tk.Button(frame, text=\"Button in Frame\")\n",
    "button.pack()\n",
    "\n",
    "window.mainloop()\n"
   ]
  },
  {
   "cell_type": "markdown",
   "id": "6442e466",
   "metadata": {},
   "source": [
    "## 82. New Windows 🗔"
   ]
  },
  {
   "cell_type": "code",
   "execution_count": null,
   "id": "4a7c2785",
   "metadata": {},
   "outputs": [],
   "source": [
    "\n",
    "# Opening a new window in tkinter.\n",
    "import tkinter as tk\n",
    "\n",
    "def open_new_window():\n",
    "    new_window = tk.Toplevel(window)\n",
    "    new_window.title(\"New Window\")\n",
    "    label = tk.Label(new_window, text=\"This is a new window\")\n",
    "    label.pack()\n",
    "\n",
    "window = tk.Tk()\n",
    "window.title(\"Simple GUI\")\n",
    "\n",
    "button = tk.Button(window, text=\"Open New Window\", command=open_new_window)\n",
    "button.pack()\n",
    "\n",
    "window.mainloop()\n"
   ]
  },
  {
   "cell_type": "markdown",
   "id": "f7e142d4",
   "metadata": {},
   "source": [
    "## 83. Window Tabs 📑"
   ]
  },
  {
   "cell_type": "code",
   "execution_count": null,
   "id": "7f922411",
   "metadata": {},
   "outputs": [],
   "source": [
    "\n",
    "# Adding tabs to a tkinter window using ttk.\n",
    "import tkinter as tk\n",
    "from tkinter import ttk\n",
    "\n",
    "window = tk.Tk()\n",
    "window.title(\"Simple GUI\")\n",
    "\n",
    "tab_control = ttk.Notebook(window)\n",
    "tab1 = ttk.Frame(tab_control)\n",
    "tab2 = ttk.Frame(tab_control)\n",
    "\n",
    "tab_control.add(tab1, text=\"Tab 1\")\n",
    "tab_control.add(tab2, text=\"Tab 2\")\n",
    "tab_control.pack(expand=1, fill=\"both\")\n",
    "\n",
    "label1 = tk.Label(tab1, text=\"This is Tab 1\")\n",
    "label1.pack()\n",
    "\n",
    "label2 = tk.Label(tab2, text=\"This is Tab 2\")\n",
    "label2.pack()\n",
    "\n",
    "window.mainloop()\n"
   ]
  },
  {
   "cell_type": "markdown",
   "id": "7185c509",
   "metadata": {},
   "source": [
    "## 84. Grid 🏢"
   ]
  },
  {
   "cell_type": "code",
   "execution_count": null,
   "id": "2bfdeff7",
   "metadata": {},
   "outputs": [],
   "source": [
    "\n",
    "# Using the grid geometry manager in tkinter.\n",
    "import tkinter as tk\n",
    "\n",
    "window = tk.Tk()\n",
    "window.title(\"Simple GUI\")\n",
    "\n",
    "for i in range(3):\n",
    "    for j in range(3):\n",
    "        button = tk.Button(window, text=f\"Button {i},{j}\")\n",
    "        button.grid(row=i, column=j)\n",
    "\n",
    "window.mainloop()\n"
   ]
  },
  {
   "cell_type": "markdown",
   "id": "286a18e9",
   "metadata": {},
   "source": [
    "## 85. Progress Bar 📊"
   ]
  },
  {
   "cell_type": "code",
   "execution_count": null,
   "id": "e3125ff9",
   "metadata": {},
   "outputs": [],
   "source": [
    "\n",
    "# Adding a progress bar to a tkinter window using ttk.\n",
    "import tkinter as tk\n",
    "from tkinter import ttk\n",
    "\n",
    "window = tk.Tk()\n",
    "window.title(\"Simple GUI\")\n",
    "\n",
    "progress = ttk.Progressbar(window, orient=\"horizontal\", length=200, mode=\"determinate\")\n",
    "progress.pack()\n",
    "progress[\"value\"] = 50\n",
    "\n",
    "window.mainloop()\n"
   ]
  },
  {
   "cell_type": "markdown",
   "id": "a2594c9b",
   "metadata": {},
   "source": [
    "## 86. Canvas 🖍️"
   ]
  },
  {
   "cell_type": "code",
   "execution_count": null,
   "id": "8b7a77f5",
   "metadata": {},
   "outputs": [],
   "source": [
    "\n",
    "# Drawing on a canvas in tkinter.\n",
    "import tkinter as tk\n",
    "\n",
    "window = tk.Tk()\n",
    "window.title(\"Simple GUI\")\n",
    "\n",
    "canvas = tk.Canvas(window, width=400, height=300)\n",
    "canvas.pack()\n",
    "canvas.create_line(0, 0, 200, 100)\n",
    "canvas.create_rectangle(50, 50, 150, 150)\n",
    "\n",
    "window.mainloop()\n"
   ]
  },
  {
   "cell_type": "markdown",
   "id": "036c5a56",
   "metadata": {},
   "source": [
    "## 87. Keyboard Events ⌨️"
   ]
  },
  {
   "cell_type": "code",
   "execution_count": null,
   "id": "366c20a6",
   "metadata": {},
   "outputs": [],
   "source": [
    "\n",
    "# Handling keyboard events in tkinter.\n",
    "import tkinter as tk\n",
    "\n",
    "def on_key_press(event):\n",
    "    print(f\"Key pressed: {event.keysym}\")\n",
    "\n",
    "window = tk.Tk()\n",
    "window.title(\"Simple GUI\")\n",
    "\n",
    "window.bind(\"<KeyPress>\", on_key_press)\n",
    "window.mainloop()\n"
   ]
  },
  {
   "cell_type": "markdown",
   "id": "0fd671ee",
   "metadata": {},
   "source": [
    "## 88. Mouse Events 🖱️"
   ]
  },
  {
   "cell_type": "code",
   "execution_count": null,
   "id": "c13413c5",
   "metadata": {},
   "outputs": [],
   "source": [
    "\n",
    "# Handling mouse events in tkinter.\n",
    "import tkinter as tk\n",
    "\n",
    "def on_mouse_click(event):\n",
    "    print(f\"Mouse clicked at: {event.x}, {event.y}\")\n",
    "\n",
    "window = tk.Tk()\n",
    "window.title(\"Simple GUI\")\n",
    "\n",
    "window.bind(\"<Button-1>\", on_mouse_click)\n",
    "window.mainloop()\n"
   ]
  },
  {
   "cell_type": "markdown",
   "id": "1b263429",
   "metadata": {},
   "source": [
    "## 89. Drag & Drop 👈"
   ]
  },
  {
   "cell_type": "code",
   "execution_count": null,
   "id": "6bc4ae3a",
   "metadata": {},
   "outputs": [],
   "source": [
    "\n",
    "# Implementing drag and drop in tkinter.\n",
    "import tkinter as tk\n",
    "\n",
    "def on_drag_start(event):\n",
    "    event.widget._drag_data = {\"x\": event.x, \"y\": event.y}\n",
    "\n",
    "def on_drag_motion(event):\n",
    "    x, y = event.widget._drag_data[\"x\"], event.widget._drag_data[\"y\"]\n",
    "    event.widget.place(x=event.x_root - x, y=event.y_root - y)\n",
    "\n",
    "window = tk.Tk()\n",
    "window.title(\"Simple GUI\")\n",
    "\n",
    "label = tk.Label(window, text=\"Drag Me\", bg=\"yellow\")\n",
    "label.place(x=50, y=50)\n",
    "label.bind(\"<Button-1>\", on_drag_start)\n",
    "label.bind(\"<B1-Motion>\", on_drag_motion)\n",
    "\n",
    "window.mainloop()\n"
   ]
  },
  {
   "cell_type": "markdown",
   "id": "41f03112",
   "metadata": {},
   "source": [
    "## 90. Move Images with Keys 🏎️"
   ]
  },
  {
   "cell_type": "code",
   "execution_count": null,
   "id": "bd120177",
   "metadata": {},
   "outputs": [],
   "source": [
    "\n",
    "# Moving an image using arrow keys in tkinter.\n",
    "import tkinter as tk\n",
    "\n",
    "def on_key_press(event):\n",
    "    if event.keysym == \"Up\":\n",
    "        canvas.move(image_id, 0, -10)\n",
    "    elif event.keysym == \"Down\":\n",
    "        canvas.move(image_id, 0, 10)\n",
    "    elif event.keysym == \"Left\":\n",
    "        canvas.move(image_id, -10, 0)\n",
    "    elif event.keysym == \"Right\":\n",
    "        canvas.move(image_id, 10, 0)\n",
    "\n",
    "window = tk.Tk()\n",
    "window.title(\"Simple GUI\")\n",
    "\n",
    "canvas = tk.Canvas(window, width=400, height=400)\n",
    "canvas.pack()\n",
    "image = tk.PhotoImage(file=\"example.png\")\n",
    "image_id = canvas.create_image(200, 200, anchor=\"center\", image=image)\n",
    "\n",
    "window.bind(\"<KeyPress>\", on_key_press)\n",
    "window.mainloop()\n"
   ]
  },
  {
   "cell_type": "markdown",
   "id": "aa6539b0",
   "metadata": {},
   "source": [
    "## 91. Animations 🛸"
   ]
  },
  {
   "cell_type": "code",
   "execution_count": null,
   "id": "aeddd9e4",
   "metadata": {},
   "outputs": [],
   "source": [
    "\n",
    "# Creating simple animations in tkinter.\n",
    "import tkinter as tk\n",
    "\n",
    "def animate():\n",
    "    x, y = 10, 0\n",
    "    while True:\n",
    "        canvas.move(circle, x, y)\n",
    "        window.update()\n",
    "        time.sleep(0.05)\n",
    "        x, y = -x, -y\n",
    "\n",
    "window = tk.Tk()\n",
    "window.title(\"Simple GUI\")\n",
    "\n",
    "canvas = tk.Canvas(window, width=400, height=400)\n",
    "canvas.pack()\n",
    "circle = canvas.create_oval(180, 180, 220, 220, fill=\"blue\")\n",
    "\n",
    "window.after(0, animate)\n",
    "window.mainloop()\n"
   ]
  },
  {
   "cell_type": "markdown",
   "id": "2a9cbafc",
   "metadata": {},
   "source": [
    "## 92. Multiple Animations 🎞️"
   ]
  },
  {
   "cell_type": "code",
   "execution_count": null,
   "id": "01b37703",
   "metadata": {},
   "outputs": [],
   "source": [
    "\n",
    "# Creating multiple animations in tkinter.\n",
    "import tkinter as tk\n",
    "\n",
    "def animate(circle, x, y):\n",
    "    while True:\n",
    "        canvas.move(circle, x, y)\n",
    "        window.update()\n",
    "        time.sleep(0.05)\n",
    "        x, y = -x, -y\n",
    "\n",
    "window = tk.Tk()\n",
    "window.title(\"Simple GUI\")\n",
    "\n",
    "canvas = tk.Canvas(window, width=400, height=400)\n",
    "canvas.pack()\n",
    "circle1 = canvas.create_oval(50, 50, 90, 90, fill=\"blue\")\n",
    "circle2 = canvas.create_oval(310, 310, 350, 350, fill=\"red\")\n",
    "\n",
    "window.after(0, animate, circle1, 10, 0)\n",
    "window.after(0, animate, circle2, 0, 10)\n",
    "window.mainloop()\n"
   ]
  },
  {
   "cell_type": "markdown",
   "id": "73b6cfed",
   "metadata": {},
   "source": [
    "## 93. Clock Program 🕒"
   ]
  },
  {
   "cell_type": "code",
   "execution_count": null,
   "id": "577be17c",
   "metadata": {},
   "outputs": [],
   "source": [
    "\n",
    "# Creating a simple clock program in tkinter.\n",
    "import tkinter as tk\n",
    "import time\n",
    "\n",
    "def update_time():\n",
    "    current_time = time.strftime(\"%H:%M:%S\")\n",
    "    clock_label.config(text=current_time)\n",
    "    window.after(1000, update_time)\n",
    "\n",
    "window = tk.Tk()\n",
    "window.title(\"Clock\")\n",
    "\n",
    "clock_label = tk.Label(window, font=(\"Helvetica\", 48), text=\"\")\n",
    "clock_label.pack()\n",
    "\n",
    "update_time()\n",
    "window.mainloop()\n"
   ]
  },
  {
   "cell_type": "markdown",
   "id": "f7bdbed5",
   "metadata": {},
   "source": [
    "## 94. Send an Email 📧"
   ]
  },
  {
   "cell_type": "code",
   "execution_count": null,
   "id": "b3893d52",
   "metadata": {},
   "outputs": [],
   "source": [
    "\n",
    "# Sending an email using smtplib.\n",
    "import smtplib\n",
    "\n",
    "def send_email(subject, body, to_email):\n",
    "    from_email = \"your_email@example.com\"\n",
    "    password = \"your_password\"\n",
    "\n",
    "    message = f\"Subject: {subject}\\n\\n{body}\"\n",
    "\n",
    "    with smtplib.SMTP(\"smtp.example.com\", 587) as server:\n",
    "        server.starttls()\n",
    "        server.login(from_email, password)\n",
    "        server.sendmail(from_email, to_email, message)\n",
    "\n",
    "send_email(\"Test Subject\", \"This is a test email\", \"recipient@example.com\")\n"
   ]
  },
  {
   "cell_type": "markdown",
   "id": "5d3e13bf",
   "metadata": {},
   "source": [
    "## 95. Run with Command Prompt 👨‍💻"
   ]
  },
  {
   "cell_type": "code",
   "execution_count": null,
   "id": "99c124a2",
   "metadata": {},
   "outputs": [],
   "source": [
    "\n",
    "# Running Python scripts with the command prompt.\n",
    "# To run a Python script, open the command prompt and type:\n",
    "# python script_name.py\n"
   ]
  },
  {
   "cell_type": "markdown",
   "id": "57fc8a82",
   "metadata": {},
   "source": [
    "## 96. pip 🏗️"
   ]
  },
  {
   "cell_type": "code",
   "execution_count": null,
   "id": "0b89e45c",
   "metadata": {},
   "outputs": [],
   "source": [
    "\n",
    "# pip is the package installer for Python.\n",
    "# To install a package using pip, open the command prompt and type:\n",
    "# pip install package_name\n"
   ]
  },
  {
   "cell_type": "markdown",
   "id": "dfc4d048",
   "metadata": {},
   "source": [
    "## 97. py to exe 🏃"
   ]
  },
  {
   "cell_type": "code",
   "execution_count": null,
   "id": "7765e5db",
   "metadata": {},
   "outputs": [],
   "source": [
    "\n",
    "# Converting a Python script to an executable using pyinstaller.\n",
    "# To convert a script to an executable, open the command prompt and type:\n",
    "# pyinstaller --onefile script_name.py\n"
   ]
  }
 ],
 "metadata": {
  "kernelspec": {
   "display_name": "base",
   "language": "python",
   "name": "python3"
  },
  "language_info": {
   "codemirror_mode": {
    "name": "ipython",
    "version": 3
   },
   "file_extension": ".py",
   "mimetype": "text/x-python",
   "name": "python",
   "nbconvert_exporter": "python",
   "pygments_lexer": "ipython3",
   "version": "3.9.18"
  }
 },
 "nbformat": 4,
 "nbformat_minor": 5
}
